{
 "cells": [
  {
   "cell_type": "code",
   "execution_count": 1,
   "metadata": {},
   "outputs": [],
   "source": [
    "import torch\n",
    "from utils import config\n",
    "from model import SUPRESCNN\n",
    "from predict import prediction"
   ]
  },
  {
   "cell_type": "code",
   "execution_count": 2,
   "metadata": {},
   "outputs": [],
   "source": [
    "model = SUPRESCNN()\n",
    "model.to(config.DEVICE)\n",
    "model.load_state_dict(torch.load(\"output/modelx2_2022-10-11.pth\"))\n",
    "\n",
    "pred_path = \"input/\" # \"./dataset/SUPRES_DATASET/Test\""
   ]
  },
  {
   "cell_type": "code",
   "execution_count": 3,
   "metadata": {},
   "outputs": [],
   "source": [
    "prediction(model, pred_path)"
   ]
  }
 ],
 "metadata": {
  "kernelspec": {
   "display_name": "Python 3.9.7 ('deeplr_env')",
   "language": "python",
   "name": "python3"
  },
  "language_info": {
   "codemirror_mode": {
    "name": "ipython",
    "version": 3
   },
   "file_extension": ".py",
   "mimetype": "text/x-python",
   "name": "python",
   "nbconvert_exporter": "python",
   "pygments_lexer": "ipython3",
   "version": "3.9.7"
  },
  "orig_nbformat": 4,
  "vscode": {
   "interpreter": {
    "hash": "9d5c7a2697902f6db278901b2dd0f4045fe158fa1ca45b68e20ff5b98d77b46e"
   }
  }
 },
 "nbformat": 4,
 "nbformat_minor": 2
}
