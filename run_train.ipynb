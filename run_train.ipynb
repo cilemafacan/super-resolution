{
 "cells": [
  {
   "cell_type": "code",
   "execution_count": null,
   "metadata": {},
   "outputs": [],
   "source": [
    "import os\n",
    "import time\n",
    "import torch\n",
    "import torch.optim as optim\n",
    "\n",
    "from datetime import date\n",
    "from model import SUPRESCNN\n",
    "from trainer import train, validation\n",
    "from dataset_creater import datasetCreate\n",
    "from get_dataset import getTrainDataset, getValDataset\n",
    "from torch.utils.data.dataloader import DataLoader\n",
    "from utils import config\n"
   ]
  },
  {
   "cell_type": "code",
   "execution_count": null,
   "metadata": {},
   "outputs": [],
   "source": [
    "device        =  config.DEVICE\n",
    "criterion     =  config.LOSS\n",
    "model         =  SUPRESCNN().to(device)\n",
    "optimizer     =  optim.Adam(model.parameters(), config.LEARNING_RATE)"
   ]
  },
  {
   "cell_type": "code",
   "execution_count": null,
   "metadata": {},
   "outputs": [],
   "source": [
    "datasetCreate(config.train_dir, config.val_dir)"
   ]
  },
  {
   "cell_type": "code",
   "execution_count": null,
   "metadata": {},
   "outputs": [],
   "source": [
    "train_dataset = getTrainDataset(\"h5_file/train_h5\")\n",
    "train_loader  = DataLoader(dataset=train_dataset, batch_size=config.BATCH_SIZE, shuffle=True)\n",
    "\n",
    "val_dataset   = getValDataset(\"h5_file/eval_h5\")\n",
    "val_loader    = DataLoader(dataset=val_dataset, batch_size=config.BATCH_SIZE, shuffle=False)"
   ]
  },
  {
   "cell_type": "code",
   "execution_count": null,
   "metadata": {},
   "outputs": [],
   "source": [
    "start = time.time()\n",
    "\n",
    "for epoch in range(config.EPOCH):\n",
    "    print(f\"EPOCH {epoch+1} of {config.EPOCH}\")\n",
    "    \n",
    "    train_epoch_loss = train(model,train_dataset, train_loader, device, criterion, optimizer, epoch)\n",
    "    val_epoch_loss = validation(model, val_dataset, val_loader, device, criterion, optimizer, epoch)\n",
    "    \n",
    "end = time.time()\n",
    "\n",
    "if not os.path.exists(\"output\"):\n",
    "    os.makedirs(\"output\")\n",
    "\n",
    "save_name = f\"output/modelx{config.scale_factor}_{date.today()}.pth\"\n",
    "torch.save(model.state_dict(), save_name)\n",
    "print(f\"{((end-start)/60):.3f} minutes to train...\")"
   ]
  }
 ],
 "metadata": {
  "kernelspec": {
   "display_name": "Python 3.9.7 ('deeplr_env')",
   "language": "python",
   "name": "python3"
  },
  "language_info": {
   "codemirror_mode": {
    "name": "ipython",
    "version": 3
   },
   "file_extension": ".py",
   "mimetype": "text/x-python",
   "name": "python",
   "nbconvert_exporter": "python",
   "pygments_lexer": "ipython3",
   "version": "3.9.7"
  },
  "orig_nbformat": 4,
  "vscode": {
   "interpreter": {
    "hash": "9d5c7a2697902f6db278901b2dd0f4045fe158fa1ca45b68e20ff5b98d77b46e"
   }
  }
 },
 "nbformat": 4,
 "nbformat_minor": 2
}
